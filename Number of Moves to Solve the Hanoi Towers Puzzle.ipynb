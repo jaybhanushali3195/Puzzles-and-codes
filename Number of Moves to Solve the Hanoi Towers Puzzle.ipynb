{
 "cells": [
  {
   "cell_type": "markdown",
   "metadata": {},
   "source": [
    "well known Hanoi Towers puzzle. In this puzzle, we're given three sticks. Two of them are initially empty. On the first stick, we have n discs, sorted by size as shown here on the slide. Our goal is to move all n discs to some other stick, to one of the two empty sticks. This would be easy if not given two constraints. First of all, we are allowed to move only one disc at a time, and naturally we need to take the top most disc from one stick, and to put it to some other stick, right? And also we are not allowed to put a larger disc onto a smaller disc, okay? So the question is whether it is possible for, and if it is possible, then for which values of n this is possible, okay? So it is known to be possible for every value of n."
   ]
  },
  {
   "cell_type": "code",
   "execution_count": 2,
   "metadata": {},
   "outputs": [],
   "source": [
    "def moves_required(n):\n",
    "    if n == 1:\n",
    "        return 1\n",
    "    return (2*moves_required(n-1) + 1)"
   ]
  },
  {
   "cell_type": "code",
   "execution_count": 3,
   "metadata": {},
   "outputs": [
    {
     "data": {
      "text/plain": [
       "15"
      ]
     },
     "execution_count": 3,
     "metadata": {},
     "output_type": "execute_result"
    }
   ],
   "source": [
    "moves_required(4)"
   ]
  },
  {
   "cell_type": "code",
   "execution_count": 4,
   "metadata": {},
   "outputs": [
    {
     "data": {
      "text/plain": [
       "3"
      ]
     },
     "execution_count": 4,
     "metadata": {},
     "output_type": "execute_result"
    }
   ],
   "source": [
    "moves_required(2)"
   ]
  },
  {
   "cell_type": "code",
   "execution_count": 5,
   "metadata": {},
   "outputs": [
    {
     "data": {
      "text/plain": [
       "63"
      ]
     },
     "execution_count": 5,
     "metadata": {},
     "output_type": "execute_result"
    }
   ],
   "source": [
    "moves_required(6)"
   ]
  },
  {
   "cell_type": "markdown",
   "metadata": {},
   "source": [
    "hat's right! In fact, it is known that the number of moves is 2^n-12 \n",
    "n\n",
    " −1. More formally, any solution makes at least 2^n-12 \n",
    "n\n",
    " −1 moves and there is a solution that makes exactly 2^n-12 \n",
    "n\n",
    " −1 moves (it was described in the videos). Thus, 2^n-12 \n",
    "n\n",
    " −1 is the optimal number of moves to solve this puzzle."
   ]
  },
  {
   "cell_type": "code",
   "execution_count": null,
   "metadata": {},
   "outputs": [],
   "source": []
  }
 ],
 "metadata": {
  "kernelspec": {
   "display_name": "Python 3",
   "language": "python",
   "name": "python3"
  },
  "language_info": {
   "codemirror_mode": {
    "name": "ipython",
    "version": 3
   },
   "file_extension": ".py",
   "mimetype": "text/x-python",
   "name": "python",
   "nbconvert_exporter": "python",
   "pygments_lexer": "ipython3",
   "version": "3.7.1"
  }
 },
 "nbformat": 4,
 "nbformat_minor": 2
}
