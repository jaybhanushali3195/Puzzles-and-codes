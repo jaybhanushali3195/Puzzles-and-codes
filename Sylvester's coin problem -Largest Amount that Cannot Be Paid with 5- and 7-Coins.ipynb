{
 "cells": [
  {
   "cell_type": "markdown",
   "metadata": {},
   "source": [
    "**This is sometimes known as Sylvester's coin problem. The largest unpayable amount from coins of value a and b, when they are coprime, is ab−a−b.**"
   ]
  },
  {
   "cell_type": "code",
   "execution_count": 43,
   "metadata": {},
   "outputs": [],
   "source": [
    "def change(amount):\n",
    "    \n",
    "    if amount == 5:\n",
    "        return [5]\n",
    "    if amount == 7:\n",
    "        return [7]\n",
    "    if amount == 10:\n",
    "        return [5,5]\n",
    "    if amount == 12:\n",
    "        return [5,7]\n",
    "    if amount == 14:\n",
    "        return [7,7]\n",
    "    if amount == 15:\n",
    "        return [5,5,5]\n",
    "    if amount == 17:\n",
    "        return [5,5,7]\n",
    "    if amount == 19:\n",
    "        return [5,7,7]\n",
    "    if amount ==20:\n",
    "        return [5,5,5,5]\n",
    "    if amount == 21:\n",
    "        return [7,7,7]\n",
    "    if amount == 22:\n",
    "        return [5,5,5,7]\n",
    "    if amount == 28:\n",
    "        return [7,7,7,7]\n",
    "    \n",
    "    \n",
    "    coins = change(amount-5)\n",
    "    coins.append(5)\n",
    "    return coins\n",
    "  \n",
    "    \n",
    "    "
   ]
  },
  {
   "cell_type": "code",
   "execution_count": 44,
   "metadata": {},
   "outputs": [
    {
     "data": {
      "text/plain": [
       "[7, 7, 7, 7]"
      ]
     },
     "execution_count": 44,
     "metadata": {},
     "output_type": "execute_result"
    }
   ],
   "source": [
    "change(28)"
   ]
  },
  {
   "cell_type": "code",
   "execution_count": 45,
   "metadata": {},
   "outputs": [],
   "source": [
    "def change2(amount):\n",
    "    if amount == 5:\n",
    "        return [5]\n",
    "    if amount == 7:\n",
    "        return [7]\n",
    "    if amount == 10:\n",
    "        return [5,5]\n",
    "    if amount == 12:\n",
    "        return [5,7]\n",
    "    if amount == 14:\n",
    "        return [7,7]\n",
    "    if amount == 15:\n",
    "        return [5,5,5]\n",
    "    if amount == 17:\n",
    "        return [5,5,7]\n",
    "    if amount == 19:\n",
    "        return [5,7,7]\n",
    "    if amount ==20:\n",
    "        return [5,5,5,5]\n",
    "    if amount ==21:\n",
    "        return [7,7,7]\n",
    "    if amount == 22:\n",
    "        return [5,5,5,7]\n",
    "    if amount == 28:\n",
    "        return [7,7,7,7]\n",
    "    if amount >=24:\n",
    "        coins = change(amount-5)\n",
    "        coins.append(5)\n",
    "        return coins\n",
    "        \n",
    "    else: \n",
    "        return (\"Amount cannot be paid in 5s and 7s\")\n"
   ]
  },
  {
   "cell_type": "code",
   "execution_count": 48,
   "metadata": {},
   "outputs": [
    {
     "data": {
      "text/plain": [
       "[7, 7, 7, 5, 5, 5, 5, 5, 5, 5]"
      ]
     },
     "execution_count": 48,
     "metadata": {},
     "output_type": "execute_result"
    }
   ],
   "source": [
    "change2(56)"
   ]
  },
  {
   "cell_type": "code",
   "execution_count": null,
   "metadata": {},
   "outputs": [],
   "source": []
  },
  {
   "cell_type": "code",
   "execution_count": null,
   "metadata": {},
   "outputs": [],
   "source": [
    "# Parcly Taxel has already given a good answer for your specific question, but, since your title \n",
    "# also said \"understanding why\", let me explain a way to think about this. The following idea works \n",
    "# in general to prove Sylvester's ab−a−b result, but I'll describe it in your specific situation.\n",
    "\n",
    "# Think of the positive integers in blocks of 5 consecutive numbers. In the first block {1,2,3,4,5}, \n",
    "\n",
    "# the only payable amount is the last element, 5. As a result, in all subsequent blocks, the \n",
    "# last element will be payable, just by using more 5-coins. In the second block, {6,7,8,9,10}, \n",
    "# you get, in addition to the last element 10 that we already know is payable, one more payable \n",
    "# element, 7. As a result, in all subsequent blocks, the second element will be payable, just by \n",
    "# using more 5-coins. In the third block, {11,12,13,14,15}, in addition to the second and last \n",
    "# elements that we already know are payable, we get one more payable element, 14. So in all later \n",
    "# blocks, the second, fourth, and last elements will be payable. The fourth block gets us no new \n",
    "# payable elements (because there's no multiple of 7 in that block), but the fifth block gets us \n",
    "#                   the new payable element 21. So in all subsequent blocks, all elements but the \n",
    "#                   third will be payable. In the 6th block, we get the new payable number 28, the \n",
    "#                   third number in that block. So from the sixth block on, everything is payable. \n",
    "#                   The last block with an unpayable element is therefore the fifth block, and its \n",
    "#                   only unpayable element is the third element, 23.\n",
    "# You might check what happens in the analogous calculation with blocks of 7 instead of blocks \n",
    "# of 5. You'll find that sometimes a block gets two new payable elements, which didn't happen with blocks \n",
    "#                   of 5, but the process still leads you to the correct answer 23."
   ]
  }
 ],
 "metadata": {
  "kernelspec": {
   "display_name": "Python 3",
   "language": "python",
   "name": "python3"
  },
  "language_info": {
   "codemirror_mode": {
    "name": "ipython",
    "version": 3
   },
   "file_extension": ".py",
   "mimetype": "text/x-python",
   "name": "python",
   "nbconvert_exporter": "python",
   "pygments_lexer": "ipython3",
   "version": "3.7.1"
  }
 },
 "nbformat": 4,
 "nbformat_minor": 2
}
